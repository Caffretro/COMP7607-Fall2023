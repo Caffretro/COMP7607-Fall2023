{
  "nbformat": 4,
  "nbformat_minor": 0,
  "metadata": {
    "colab": {
      "provenance": []
    },
    "kernelspec": {
      "name": "python3",
      "display_name": "Python 3"
    },
    "language_info": {
      "name": "python"
    }
  },
  "cells": [
    {
      "cell_type": "markdown",
      "source": [
        "# Assignment 1\n",
        "You should submit the **UniversityNumber.ipynb** file and your final prediction file **UniversityNumber.test.out** to Moodle. Make sure your code does not use your local files and that the results are reproducible. Before submitting, please **run your notebook and keep all running logs** so that we can check."
      ],
      "metadata": {
        "id": "tEd-mtF0PTrv"
      }
    },
    {
      "cell_type": "markdown",
      "source": [
        "## 1 $n$-gram Language Model\n",
        "**Q1**: Expand the above definition of $ p(\\vec{w})$ using naive estimates of the parameters, such as $  p(w_4 \\mid w_2, w_3) \\stackrel{\\tiny{\\mbox{def}}}{=}  \\frac{C(w_2~w_3~w_4)}{C(w_2~w_3)} $ where \\( C(w_2 w_3 w_4) \\) denotes the count of times the trigram $ w_2 w_3 w_4 $ was observed in a training corpus."
      ],
      "metadata": {
        "id": "f8c9YBduQCI4"
      }
    },
    {
      "cell_type": "markdown",
      "source": [
        "**Write your answer:**\n",
        "\n",
        "\\# todo\n",
        "\n"
      ],
      "metadata": {
        "id": "SMQ_Z1g8QZef"
      }
    },
    {
      "cell_type": "markdown",
      "source": [
        "**Q2**: One could also define a kind of reversed trigram language model $p_{reversed}$ that instead assumed the words were generated in reverse order (from right to left):\n",
        "\\begin{align} p_{reversed}(\\vec{w}) \\stackrel{\\tiny{\\mbox{def}}}{=}&p(w_n) \\cdot p(w_{n-1} \\mid w_n) \\cdot p(w_{n-2} \\mid w_{n-1} w_n) \\cdot p(w_{n-3} \\mid w_{n-2} w_{n-1}) \\\\ &\\cdots p(w_2 \\mid w_3 w_4) \\cdot p(w_1 \\mid w_2 w_3) \\end{align}\n",
        "By manipulating the notation, show that the two models are identical, i.e., $ p(\\vec{w}) = p_{reversed}(\\vec{w}) $ for any $ \\vec{w} $ provided that both models use MLE parameters estimated from the same training data (see Q1 above)."
      ],
      "metadata": {
        "id": "CmgExbf1QtCH"
      }
    },
    {
      "cell_type": "markdown",
      "source": [
        "**Write your answer:**\n",
        "\n",
        "\\# todo\n",
        "\n"
      ],
      "metadata": {
        "id": "Qm1ZGFIaRPCP"
      }
    },
    {
      "cell_type": "markdown",
      "source": [
        "## 2 $N$-gram Language Model Implementation"
      ],
      "metadata": {
        "id": "MQEc5kz4RniG"
      }
    },
    {
      "cell_type": "code",
      "source": [
        "!wget -O train.txt https://raw.githubusercontent.com/qtli/COMP7607-Fall2023/master/assignments/A1/data/lm/train.txt\n",
        "!wget -O dev.txt https://raw.githubusercontent.com/qtli/COMP7607-Fall2023/master/assignments/A1/data/lm/dev.txt\n",
        "!wget -O test.txt https://raw.githubusercontent.com/qtli/COMP7607-Fall2023/master/assignments/A1/data/lm/test.txt"
      ],
      "metadata": {
        "id": "3kSwtN79jWgp"
      },
      "execution_count": null,
      "outputs": []
    },
    {
      "cell_type": "markdown",
      "source": [
        "### 2.1 Building vocabulary"
      ],
      "metadata": {
        "id": "W9HCVQwqkTc_"
      }
    },
    {
      "cell_type": "markdown",
      "source": [
        "**Code**\n",
        "\n",
        "\\# todo\n",
        "\n"
      ],
      "metadata": {
        "id": "-KhFKCzwkaTn"
      }
    },
    {
      "cell_type": "markdown",
      "source": [
        "**Discussion**\n",
        "\n",
        "\\# todo\n",
        "\n"
      ],
      "metadata": {
        "id": "JLQNsUA5kfZe"
      }
    },
    {
      "cell_type": "markdown",
      "source": [
        "### 2.2 $N$-gram Language Modeling"
      ],
      "metadata": {
        "id": "fJzDNMVikkeX"
      }
    },
    {
      "cell_type": "markdown",
      "source": [
        "**Code**\n",
        "\n",
        "\\# todo\n",
        "\n"
      ],
      "metadata": {
        "id": "Xxkcs2HykuR2"
      }
    },
    {
      "cell_type": "markdown",
      "source": [
        "**Discussion**\n",
        "\n",
        "\\# todo\n",
        "\n"
      ],
      "metadata": {
        "id": "o3o9Nez8kvYm"
      }
    },
    {
      "cell_type": "markdown",
      "source": [
        "### 2.3 Smoothing"
      ],
      "metadata": {
        "id": "BOQUqM73kzf-"
      }
    },
    {
      "cell_type": "markdown",
      "source": [
        "#### 2.3.1 Add-one (Laplace) smoothing"
      ],
      "metadata": {
        "id": "2LgXRmJwk3Y-"
      }
    },
    {
      "cell_type": "markdown",
      "source": [
        "**Code**\n",
        "\n",
        "\\# todo\n",
        "\n"
      ],
      "metadata": {
        "id": "lFG7jCIRk7Qw"
      }
    },
    {
      "cell_type": "markdown",
      "source": [
        "**Discussion**\n",
        "\n",
        "\\# todo\n",
        "\n"
      ],
      "metadata": {
        "id": "36yTKPXFk8f2"
      }
    },
    {
      "cell_type": "markdown",
      "source": [
        "#### 2.3.2: Add-$k$ smoothing"
      ],
      "metadata": {
        "id": "Z8cFbczqlBR_"
      }
    },
    {
      "cell_type": "markdown",
      "source": [
        "**Code**\n",
        "\n",
        "\\# todo\n",
        "\n"
      ],
      "metadata": {
        "id": "uV_ZiAgIlPUu"
      }
    },
    {
      "cell_type": "markdown",
      "source": [
        "**Discussion**\n",
        "\n",
        "\\# todo\n",
        "\n"
      ],
      "metadata": {
        "id": "UHFNf8OIlQ0O"
      }
    },
    {
      "cell_type": "markdown",
      "source": [
        "#### 2.3.3 Linear Interpolation"
      ],
      "metadata": {
        "id": "AjKEO_TqlUrX"
      }
    },
    {
      "cell_type": "markdown",
      "source": [
        "**Code**\n",
        "\n",
        "\\# todo\n",
        "\n"
      ],
      "metadata": {
        "id": "pcdd4cvYlZuO"
      }
    },
    {
      "cell_type": "markdown",
      "source": [
        "**Discussion**\n",
        "\n",
        "\\# todo\n",
        "\n"
      ],
      "metadata": {
        "id": "QyKqmQ37lcH2"
      }
    },
    {
      "cell_type": "markdown",
      "source": [
        "##### **Optimization**:\n",
        "\n",
        "\\# todo"
      ],
      "metadata": {
        "id": "xzSbk2bClf3u"
      }
    },
    {
      "cell_type": "markdown",
      "source": [
        "## 3 Preposition Prediction"
      ],
      "metadata": {
        "id": "MgTcTlLuloHu"
      }
    },
    {
      "cell_type": "code",
      "source": [
        "!wget -O dev.in https://raw.githubusercontent.com/qtli/COMP7607-Fall2023/master/assignments/A1/data/prep/dev.in\n",
        "!wget -O dev.out https://github.com/qtli/COMP7607-Fall2023/blob/master/assignments/A1/data/prep/dev.out"
      ],
      "metadata": {
        "id": "7jb0OQ-yltc3"
      },
      "execution_count": null,
      "outputs": []
    }
  ]
}